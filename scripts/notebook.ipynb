{
 "cells": [
  {
   "cell_type": "code",
   "execution_count": 1,
   "metadata": {
    "tags": []
   },
   "outputs": [],
   "source": [
    "# Global variables\n",
    "frames_path = '../data/frames/frames.json'\n",
    "utterances_train_path = '../data/utterances-train.json'\n",
    "utterances_test_path = '../data/utterances-test.json'"
   ]
  },
  {
   "cell_type": "code",
   "execution_count": 2,
   "metadata": {
    "tags": []
   },
   "outputs": [],
   "source": [
    "# Imports\n",
    "import json\n",
    "import pandas as pd"
   ]
  },
  {
   "cell_type": "code",
   "execution_count": 3,
   "metadata": {
    "tags": []
   },
   "outputs": [
    {
     "name": "stdout",
     "output_type": "stream",
     "text": [
      "Shape: (1369, 5)\n"
     ]
    },
    {
     "data": {
      "text/html": [
       "<div>\n",
       "<style scoped>\n",
       "    .dataframe tbody tr th:only-of-type {\n",
       "        vertical-align: middle;\n",
       "    }\n",
       "\n",
       "    .dataframe tbody tr th {\n",
       "        vertical-align: top;\n",
       "    }\n",
       "\n",
       "    .dataframe thead th {\n",
       "        text-align: right;\n",
       "    }\n",
       "</style>\n",
       "<table border=\"1\" class=\"dataframe\">\n",
       "  <thead>\n",
       "    <tr style=\"text-align: right;\">\n",
       "      <th></th>\n",
       "      <th>user_id</th>\n",
       "      <th>turns</th>\n",
       "      <th>wizard_id</th>\n",
       "      <th>id</th>\n",
       "      <th>labels</th>\n",
       "    </tr>\n",
       "  </thead>\n",
       "  <tbody>\n",
       "    <tr>\n",
       "      <th>0</th>\n",
       "      <td>U22HTHYNP</td>\n",
       "      <td>[{'text': 'I'd like to book a trip to Atlantis...</td>\n",
       "      <td>U21DKG18C</td>\n",
       "      <td>e2c0fc6c-2134-4891-8353-ef16d8412c9a</td>\n",
       "      <td>{'userSurveyRating': 4.0, 'wizardSurveyTaskSuc...</td>\n",
       "    </tr>\n",
       "    <tr>\n",
       "      <th>1</th>\n",
       "      <td>U21E41CQP</td>\n",
       "      <td>[{'text': 'Hello, I am looking to book a vacat...</td>\n",
       "      <td>U21DMV0KA</td>\n",
       "      <td>4a3bfa39-2c22-42c8-8694-32b4e34415e9</td>\n",
       "      <td>{'userSurveyRating': 3.0, 'wizardSurveyTaskSuc...</td>\n",
       "    </tr>\n",
       "    <tr>\n",
       "      <th>2</th>\n",
       "      <td>U21RP4FCY</td>\n",
       "      <td>[{'text': 'Hello there i am looking to go on a...</td>\n",
       "      <td>U21E0179B</td>\n",
       "      <td>6e67ed28-e94c-4fab-96b6-68569a92682f</td>\n",
       "      <td>{'userSurveyRating': 2.0, 'wizardSurveyTaskSuc...</td>\n",
       "    </tr>\n",
       "    <tr>\n",
       "      <th>3</th>\n",
       "      <td>U22HTHYNP</td>\n",
       "      <td>[{'text': 'Hi I'd like to go to Caprica from B...</td>\n",
       "      <td>U21DKG18C</td>\n",
       "      <td>5ae76e50-5b48-4166-9f6d-67aaabd7bcaa</td>\n",
       "      <td>{'userSurveyRating': 5.0, 'wizardSurveyTaskSuc...</td>\n",
       "    </tr>\n",
       "    <tr>\n",
       "      <th>4</th>\n",
       "      <td>U21E41CQP</td>\n",
       "      <td>[{'text': 'Hello, I am looking to book a trip ...</td>\n",
       "      <td>U21DMV0KA</td>\n",
       "      <td>24603086-bb53-431e-a0d8-1dcc63518ba9</td>\n",
       "      <td>{'userSurveyRating': 5.0, 'wizardSurveyTaskSuc...</td>\n",
       "    </tr>\n",
       "  </tbody>\n",
       "</table>\n",
       "</div>"
      ],
      "text/plain": [
       "     user_id                                              turns  wizard_id  \\\n",
       "0  U22HTHYNP  [{'text': 'I'd like to book a trip to Atlantis...  U21DKG18C   \n",
       "1  U21E41CQP  [{'text': 'Hello, I am looking to book a vacat...  U21DMV0KA   \n",
       "2  U21RP4FCY  [{'text': 'Hello there i am looking to go on a...  U21E0179B   \n",
       "3  U22HTHYNP  [{'text': 'Hi I'd like to go to Caprica from B...  U21DKG18C   \n",
       "4  U21E41CQP  [{'text': 'Hello, I am looking to book a trip ...  U21DMV0KA   \n",
       "\n",
       "                                     id  \\\n",
       "0  e2c0fc6c-2134-4891-8353-ef16d8412c9a   \n",
       "1  4a3bfa39-2c22-42c8-8694-32b4e34415e9   \n",
       "2  6e67ed28-e94c-4fab-96b6-68569a92682f   \n",
       "3  5ae76e50-5b48-4166-9f6d-67aaabd7bcaa   \n",
       "4  24603086-bb53-431e-a0d8-1dcc63518ba9   \n",
       "\n",
       "                                              labels  \n",
       "0  {'userSurveyRating': 4.0, 'wizardSurveyTaskSuc...  \n",
       "1  {'userSurveyRating': 3.0, 'wizardSurveyTaskSuc...  \n",
       "2  {'userSurveyRating': 2.0, 'wizardSurveyTaskSuc...  \n",
       "3  {'userSurveyRating': 5.0, 'wizardSurveyTaskSuc...  \n",
       "4  {'userSurveyRating': 5.0, 'wizardSurveyTaskSuc...  "
      ]
     },
     "metadata": {},
     "output_type": "display_data"
    }
   ],
   "source": [
    "# Initial data\n",
    "frames = pd.read_json(frames_path)\n",
    "\n",
    "print('Shape:', frames.shape)\n",
    "display(frames.head())"
   ]
  },
  {
   "cell_type": "code",
   "execution_count": 4,
   "metadata": {},
   "outputs": [
    {
     "name": "stdout",
     "output_type": "stream",
     "text": [
      "Turn number: 10407\n"
     ]
    }
   ],
   "source": [
    "# Extract only turns\n",
    "turns = []\n",
    "for i, row in frames.iterrows():\n",
    "    for turn in row['turns']:\n",
    "        if turn['author'] == 'user':\n",
    "            turns.append(turn)\n",
    "\n",
    "print('Turn number:', len(turns))"
   ]
  },
  {
   "cell_type": "code",
   "execution_count": 8,
   "metadata": {},
   "outputs": [
    {
     "name": "stdout",
     "output_type": "stream",
     "text": [
      "Utterances initial number: 10407\n",
      "Filtered utterances shape: (4138, 4)\n"
     ]
    },
    {
     "data": {
      "text/html": [
       "<div>\n",
       "<style scoped>\n",
       "    .dataframe tbody tr th:only-of-type {\n",
       "        vertical-align: middle;\n",
       "    }\n",
       "\n",
       "    .dataframe tbody tr th {\n",
       "        vertical-align: top;\n",
       "    }\n",
       "\n",
       "    .dataframe thead th {\n",
       "        text-align: right;\n",
       "    }\n",
       "</style>\n",
       "<table border=\"1\" class=\"dataframe\">\n",
       "  <thead>\n",
       "    <tr style=\"text-align: right;\">\n",
       "      <th></th>\n",
       "      <th>intent</th>\n",
       "      <th>language</th>\n",
       "      <th>text</th>\n",
       "      <th>entities</th>\n",
       "    </tr>\n",
       "  </thead>\n",
       "  <tbody>\n",
       "    <tr>\n",
       "      <th>2567</th>\n",
       "      <td>BookFlight</td>\n",
       "      <td>en-us</td>\n",
       "      <td>i like. how about trips to belo horizonte</td>\n",
       "      <td>[{'category': 'destination', 'offset': 27, 'le...</td>\n",
       "    </tr>\n",
       "    <tr>\n",
       "      <th>210</th>\n",
       "      <td>BookFlight</td>\n",
       "      <td>en-us</td>\n",
       "      <td>is there anything to mannheim?</td>\n",
       "      <td>[{'category': 'destination', 'offset': 21, 'le...</td>\n",
       "    </tr>\n",
       "    <tr>\n",
       "      <th>630</th>\n",
       "      <td>BookFlight</td>\n",
       "      <td>en-us</td>\n",
       "      <td>what about alexandria to salvador?</td>\n",
       "      <td>[{'category': 'destination', 'offset': 25, 'le...</td>\n",
       "    </tr>\n",
       "    <tr>\n",
       "      <th>1581</th>\n",
       "      <td>BookFlight</td>\n",
       "      <td>en-us</td>\n",
       "      <td>anytime after this saturday</td>\n",
       "      <td>[{'category': 'go_date', 'offset': 8, 'length'...</td>\n",
       "    </tr>\n",
       "    <tr>\n",
       "      <th>850</th>\n",
       "      <td>BookFlight</td>\n",
       "      <td>en-us</td>\n",
       "      <td>termina</td>\n",
       "      <td>[{'category': 'origin', 'offset': 0, 'length':...</td>\n",
       "    </tr>\n",
       "  </tbody>\n",
       "</table>\n",
       "</div>"
      ],
      "text/plain": [
       "          intent language                                       text  \\\n",
       "2567  BookFlight    en-us  i like. how about trips to belo horizonte   \n",
       "210   BookFlight    en-us             is there anything to mannheim?   \n",
       "630   BookFlight    en-us         what about alexandria to salvador?   \n",
       "1581  BookFlight    en-us                anytime after this saturday   \n",
       "850   BookFlight    en-us                                    termina   \n",
       "\n",
       "                                               entities  \n",
       "2567  [{'category': 'destination', 'offset': 27, 'le...  \n",
       "210   [{'category': 'destination', 'offset': 21, 'le...  \n",
       "630   [{'category': 'destination', 'offset': 25, 'le...  \n",
       "1581  [{'category': 'go_date', 'offset': 8, 'length'...  \n",
       "850   [{'category': 'origin', 'offset': 0, 'length':...  "
      ]
     },
     "metadata": {},
     "output_type": "display_data"
    },
    {
     "name": "stdout",
     "output_type": "stream",
     "text": [
      "Train shape: (3724, 4)\n",
      "Test shape: (414, 4)\n"
     ]
    }
   ],
   "source": [
    "utterances = []\n",
    "\n",
    "for turn in turns:\n",
    "\n",
    "    # Get wanted properties\n",
    "    properties = []\n",
    "    all_acts = turn['labels']['acts']\n",
    "    for act in all_acts:\n",
    "        for arg in act['args']:\n",
    "            if 'val' not in arg: continue\n",
    "            if arg['key'] == 'intent' and arg['val'] == 'book': properties.append({'val': 'BookFlight', 'key': 'intent'})\n",
    "            elif arg['key'] == 'dst_city': properties.append({'val': arg['val'].lower(), 'key': 'destination'})\n",
    "            elif arg['key'] == 'or_city': properties.append({'val': arg['val'].lower(), 'key': 'origin'})\n",
    "            elif arg['key'] == 'str_date': properties.append({'val': arg['val'].lower(), 'key': 'go_date'})\n",
    "            elif arg['key'] == 'end_date': properties.append({'val': arg['val'].lower(), 'key': 'back_date'})\n",
    "            elif arg['key'] == 'budget': properties.append({'val': arg['val'].lower(), 'key': 'budget'})\n",
    "            else: pass\n",
    "\n",
    "    # Prepare the variables\n",
    "    intent = 'BookFlight'\n",
    "    language = 'en-us'\n",
    "    text = turn['text'].lower()\n",
    "    entities = []\n",
    "\n",
    "    for prop in properties:\n",
    "        if prop['key'] == 'intent': continue\n",
    "\n",
    "        index = text.find(prop['val'])\n",
    "        entities.append({\n",
    "            'category': prop['key'],\n",
    "            'offset': index,\n",
    "            'length': len(prop['val'])\n",
    "        })\n",
    "\n",
    "\n",
    "    # Create utterances\n",
    "    utterances.append({\n",
    "        'intent': intent, \n",
    "        'language': language,\n",
    "        'text': text,\n",
    "        'entities': entities\n",
    "    })\n",
    "\n",
    "\n",
    "print('Utterances initial number:', len(utterances))\n",
    "\n",
    "# Filter utterances\n",
    "utterances_filtered = []\n",
    "for utt in utterances:\n",
    "    if len(utt['entities']) == 0: continue    \n",
    "    else: \n",
    "        pb = False\n",
    "        for ent in utt['entities']:\n",
    "            if ent['offset'] == -1: pb = True\n",
    "        \n",
    "        if pb: continue\n",
    "        else: utterances_filtered.append(utt)\n",
    "\n",
    "utterances_filtered = pd.DataFrame(utterances_filtered).drop_duplicates('text')\n",
    "\n",
    "print('Filtered utterances shape:', utterances_filtered.shape)\n",
    "display(utterances_filtered.sample(5))\n",
    "\n",
    "\n",
    "utt_shuffled = utterances_filtered.sample(frac=1)\n",
    "train_size = int(len(utt_shuffled) * 0.9)\n",
    "utt_train = utt_shuffled[0:train_size]\n",
    "print('Train shape:', utt_train.shape)\n",
    "utt_test = utt_shuffled[train_size:]\n",
    "print('Test shape:', utt_test.shape)\n",
    "\n",
    "utt_train.to_json(utterances_train_path, orient='records')\n",
    "utt_test.to_json(utterances_test_path, orient='records')"
   ]
  }
 ],
 "metadata": {
  "kernelspec": {
   "display_name": "Python 3.8.10 64-bit",
   "language": "python",
   "name": "python3"
  },
  "language_info": {
   "codemirror_mode": {
    "name": "ipython",
    "version": 3
   },
   "file_extension": ".py",
   "mimetype": "text/x-python",
   "name": "python",
   "nbconvert_exporter": "python",
   "pygments_lexer": "ipython3",
   "version": "3.8.10"
  },
  "orig_nbformat": 4,
  "vscode": {
   "interpreter": {
    "hash": "916dbcbb3f70747c44a77c7bcd40155683ae19c65e1c03b4aa3499c5328201f1"
   }
  }
 },
 "nbformat": 4,
 "nbformat_minor": 2
}
